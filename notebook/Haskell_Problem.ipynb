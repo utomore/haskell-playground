{
 "cells": [
  {
   "cell_type": "markdown",
   "id": "8ab9ceaa",
   "metadata": {},
   "source": [
    "# Gemini Haskell 題目練習\n",
    "每日讓 Gemini 給題目，來練習 Haskell"
   ]
  },
  {
   "cell_type": "markdown",
   "id": "0595248c",
   "metadata": {},
   "source": [
    "## Import \n",
    "引入 Module"
   ]
  },
  {
   "cell_type": "code",
   "execution_count": 39,
   "id": "b3a06b44",
   "metadata": {},
   "outputs": [],
   "source": [
    "import Control.Exception (try, IOException)\n",
    "import System.IO\n",
    "import Data.Maybe\n",
    "\n",
    "import qualified Data.Map as Map\n",
    "import qualified Data.List as List"
   ]
  },
  {
   "cell_type": "code",
   "execution_count": 46,
   "id": "48a7b0b8",
   "metadata": {},
   "outputs": [
    {
     "ename": "",
     "evalue": "",
     "output_type": "error",
     "traceback": [
      "<interactive>:1:1: error: [GHC-88464] Variable not in scope: delete"
     ]
    }
   ],
   "source": [
    ":t delete"
   ]
  },
  {
   "cell_type": "markdown",
   "id": "ef013b74",
   "metadata": {},
   "source": [
    "## Day 7 "
   ]
  },
  {
   "cell_type": "markdown",
   "id": "364bf6be",
   "metadata": {},
   "source": [
    "### 題目 A: 安全的列表頭部獲取 (使用 Maybe 和 >>=)\n",
    "Monad 相關題目\n",
    "\n",
    "任務： 寫一個函數 safeHeadMaybe，它接收一個列表 [a]。\n",
    "\n",
    "- 如果列表非空，返回 Just 該列表的第一個元素。\n",
    "- 如果列表為空，返回 Nothing。\n",
    "- 進一步要求： 定義一個函數 processFirstTwoOdds，接收一個 [Int] 列表。它應該安全地獲取列表中的前兩個奇數，並將它們相加。如果無法找到兩個奇數（例如列表太短或奇數不夠），則返回 Nothing。否則返回 Just 它們的和。請使用 safeHeadMaybe 和 >>=（或 do 記號）來處理 Maybe 值。\n",
    "\n",
    "學習重點：\n",
    "- Maybe Monad 的應用： 安全地處理可能失敗的計算。\n",
    "- `>>=` (bind) 操作符： 將 `Maybe a` 值傳遞給一個返回 `Maybe b` 的函數。\n",
    "- do 記號： 方便地組織 Monadic 計算。\n",
    "- 列表過濾。\n",
    "\n",
    "預期函數簽名：\n",
    "```Haskell\n",
    "safeHeadMaybe :: [a] -> Maybe a\n",
    "processFirstTwoOdds :: [Int] -> Maybe Int\n",
    "```\n",
    "\n",
    "例子：\n",
    "```haskell\n",
    "safeHeadMaybe [1,2,3]  -- 應該返回 Just 1\n",
    "safeHeadMaybe []       -- 應該返回 Nothing\n",
    "\n",
    "processFirstTwoOdds [1,2,3,4,5]  -- 應該返回 Just 4 (1 + 3)\n",
    "processFirstTwoOdds [2,4,6,8,1,3] -- 應該返回 Just 4 (1 + 3)\n",
    "processFirstTwoOdds [1,2,4,6]    -- 應該返回 Nothing\n",
    "processFirstTwoOdds [2,4,6]      -- 應該返回 Nothing\n",
    "```\n",
    "\n",
    "提示：\n",
    "- safeHeadMaybe 很容易實現。\n",
    "- processFirstTwoOdds 中，首先過濾出奇數。然後，你可以嘗試從過濾後的列表中獲取第一個元素，再獲取第二個元素。\n",
    "- 考慮如何利用 >>= 或 do 記號來串聯這些可能失敗的操作。\n"
   ]
  },
  {
   "cell_type": "markdown",
   "id": "a6bb10e1",
   "metadata": {},
   "source": [
    "### 題目 B: 使用 IO Monad 讀取並處理使用者輸入\n",
    "Monad 相關題目\n",
    "\n",
    "任務： 寫一個 Haskell 程式，它會執行以下操作：\n",
    "\n",
    "- 提示使用者輸入一個數字。\n",
    "- 讀取使用者輸入的字串。\n",
    "- 嘗試將該字串轉換為整數。\n",
    "- 如果轉換成功，將該數字加 10，並印出結果。\n",
    "- 如果轉換失敗（例如使用者輸入了非數字字元），則印出錯誤訊息 \"Invalid input! Please enter a number.\"。\n",
    "\n",
    "學習重點：\n",
    "\n",
    "- IO Monad： 執行帶有副作用的操作（如讀取輸入、印出輸出）。\n",
    "- getLine： 從標準輸入讀取一行。\n",
    "- putStrLn： 向標準輸出印出字串。\n",
    "- readMaybe (來自 Text.Read)： 安全地將字串轉換為其他型別，返回 Maybe a。\n",
    "-  case ... of 或 Data.Maybe 模組中的函數 (如 fromMaybe、maybe) 來處理 Maybe 值。\n",
    "- do 記號在 IO Monad 中的應用。\n",
    "\n",
    "預期函數簽名：\n",
    "\n",
    "```Haskell\n",
    "main :: IO ()\n",
    "```\n",
    "\n",
    "例子：\n",
    "```\n",
    "-- 運行時的交互\n",
    "Please enter a number:\n",
    "123\n",
    "Result: 133\n",
    "\n",
    "Please enter a number:\n",
    "abc\n",
    "Invalid input! Please enter a number.\n",
    "```\n",
    "\n",
    "提示：\n",
    "\n",
    "- 你需要 import Text.Read 來使用 readMaybe。\n",
    "- 在 do 區塊中，每個 IO 動作都會依序執行。\n",
    "- 使用 let 綁定純計算，使用 <- 綁定 IO 動作的結果。"
   ]
  },
  {
   "cell_type": "markdown",
   "id": "02a71f14",
   "metadata": {},
   "source": [
    "### 題目 C: 創建一個計數器函數 (使用閉包概念模擬)\n",
    "函數使用題型\n",
    "\n",
    "任務： 寫一個函數 makeCounter，它返回一個 IO 動作。每次執行這個 IO 動作時，它都會返回一個遞增的整數，從 1 開始。這個計數器的狀態應該是「私有」的，即每次調用 makeCounter 都會產生一個獨立的計數器。\n",
    "\n",
    "學習重點：\n",
    "- 狀態的概念在純函數式語言中的模擬。\n",
    "- IORef (來自 Data.IORef)： 在 IO Monad 中可變的引用。\n",
    "- newIORef： 創建一個新的 IORef。\n",
    "- readIORef： 讀取 IORef 的值。\n",
    "- writeIORef 或 modifyIORef： 修改 IORef 的值。\n",
    "- 高階函數： 返回一個 IO 動作。\n",
    "\n",
    "預期函數簽名：\n",
    "\n",
    "```Haskell\n",
    "makeCounter :: IO (IO Int)\n",
    "```\n",
    "\n",
    "例子：\n",
    "```Haskell\n",
    "-- 在 GHCi 中測試\n",
    "c1 <- makeCounter\n",
    "c1  -- 應該返回 1\n",
    "c1  -- 應該返回 2\n",
    "c2 <- makeCounter\n",
    "c2  -- 應該返回 1\n",
    "c1  -- 應該返回 3\n",
    "c2  -- 應該返回 2\n",
    "```\n",
    "提示：\n",
    "- 你需要在 makeCounter 內部使用 IORef 來儲存計數器的當前值。\n",
    "- makeCounter 應該返回一個 IO 動作，這個 IO 動作每次被調用時，會讀取 IORef，將其遞增，然後返回遞增後的值。"
   ]
  },
  {
   "cell_type": "markdown",
   "id": "cbfa7838",
   "metadata": {},
   "source": [
    "### 題目 D: 實現 `zipWith` 的變體：`zipWithPadding`\n",
    "函數使用題型\n",
    "\n",
    "任務： 寫一個函數 zipWithPadding，它接收一個二元函數 `f :: a -> b -> c`，一個用於列表 1 的填充值 `pad1 :: a`，一個用於列表 2 的填充值 \n",
    "- `pad2 :: b`，以及兩個列表 `xs :: [a]` 和 `ys :: [b]`。\n",
    "- zipWithPadding 的行為應該類似於 zipWith，但在其中一個列表結束時，它會使用對應的填充值來繼續計算，直到兩個列表都被遍歷完。\n",
    "\n",
    "學習重點：\n",
    "- 遞歸： 處理兩個列表的遞歸模式。\n",
    "- 模式匹配： 處理空列表和非空列表的組合。\n",
    "- 高階函數： 接收一個二元函數作為參數。\n",
    "\n",
    "預期函數簽名：\n",
    "```Haskell\n",
    "zipWithPadding :: (a -> b -> c) -> a -> b -> [a] -> [b] -> [c]\n",
    "```\n",
    "\n",
    "例子：\n",
    "\n",
    "```Haskell\n",
    "zipWithPadding (+) 0 0 [1,2,3] [4,5]        -- 應該返回 [5,7,3]\n",
    "zipWithPadding (++) \"X\" \"Y\" [\"a\",\"b\"] [\"c\",\"d\",\"e\"] -- 應該返回 [\"ac\",\"bd\",\"Ye\"]\n",
    "zipWithPadding max 0 0 [] [1,2]             -- 應該返回 [1,2]\n",
    "```\n",
    "\n",
    "提示：\n",
    "\n",
    "- 考慮三種情況：兩個列表都非空、第一個列表為空但第二個列表非空、第二個列表為空但第一個列表非空。"
   ]
  },
  {
   "cell_type": "markdown",
   "id": "a8b6881a",
   "metadata": {},
   "source": [
    "###  題目 E: 將列表分解為固定大小的塊 `chunksOf`\n",
    "\n",
    "任務： 寫一個函數 chunksOf，它接收一個正整數 n 和一個列表 [a]。函數應該將列表分解為大小為 n 的子列表。如果列表的長度不是 n 的倍數，則最後一個子列表可能小於 n。\n",
    "\n",
    "學習重點：\n",
    "\n",
    "- 列表處理： 分割列表。\n",
    "- take 和 drop 函數的應用。\n",
    "- 遞歸。\n",
    "- 邊界條件處理： 空列表和 n 值。\n",
    "\n",
    "預期函數簽名：\n",
    "\n",
    "```Haskell\n",
    "chunksOf :: Int -> [a] -> [[a]]\n",
    "```\n",
    "\n",
    "例子：\n",
    "\n",
    "```Haskell\n",
    "chunksOf 3 [1,2,3,4,5,6,7]  -- 應該返回 [[1,2,3],[4,5,6],[7]]\n",
    "chunksOf 2 \"abcdef\"       -- 應該返回 [\"ab\",\"cd\",\"ef\"]\n",
    "chunksOf 5 [1,2]           -- 應該返回 [[1,2]]\n",
    "chunksOf 3 []              -- 應該返回 []\n",
    "chunksOf 0 [1,2,3]         -- 挑戰：如何處理 n=0？（可以選擇返回空列表或拋出錯誤，或者假定 n 總是正數）\n",
    "                           -- 這裡假設 n 總是正數 (n > 0)。\n",
    "```\n",
    "\n",
    "提示：\n",
    "\n",
    "- 遞歸的基本情況是當輸入列表為空時。\n",
    "- 在遞歸步驟中，使用 take n 獲取第一個塊，然後使用 drop n 獲取其餘部分，並遞歸調用 chunksOf。"
   ]
  },
  {
   "cell_type": "markdown",
   "id": "e3151980",
   "metadata": {},
   "source": [
    "## Day 6 純函數式強化"
   ]
  },
  {
   "cell_type": "markdown",
   "id": "dfbd022f",
   "metadata": {},
   "source": [
    "###  題目 24: 計算字串中每個單詞的長度\n",
    "\n",
    "任務： 寫一個函數 wordLengths，接收一個字串（代表一句話），返回一個列表，其中包含每個單詞的長度。單詞由空格分隔。\n",
    "\n",
    "學習重點：\n",
    "- 字串分割： 使用 words 函數 (Data.String 或直接可用)。\n",
    "- map 的應用： 將 length 函數應用於分割後的每個單詞。\n",
    "- 函數組合： 將 words 和 map length 組合起來。\n",
    "- 預期函數簽名： wordLengths :: String -> [Int]\n",
    "\n",
    "例子： wordLengths \"Hello Haskell world\" 應該返回 [5, 7, 5]。\n",
    "\n",
    "提示： words 函數會將字串按空格分割成單詞列表。"
   ]
  },
  {
   "cell_type": "code",
   "execution_count": 22,
   "id": "eeef714b",
   "metadata": {},
   "outputs": [],
   "source": [
    "wordLengths :: String -> [Int]\n",
    "wordLengths = map length . words"
   ]
  },
  {
   "cell_type": "code",
   "execution_count": 16,
   "id": "46d7bec4",
   "metadata": {},
   "outputs": [
    {
     "data": {
      "text/plain": [
       "[\"the\",\"book\",\"is\",\"so\",\"big\"]"
      ]
     },
     "metadata": {},
     "output_type": "display_data"
    }
   ],
   "source": [
    "words \"the book is so big\""
   ]
  },
  {
   "cell_type": "markdown",
   "id": "d921ed5e",
   "metadata": {},
   "source": [
    "#### Test 24"
   ]
  },
  {
   "cell_type": "code",
   "execution_count": 12,
   "id": "dc1efebf",
   "metadata": {},
   "outputs": [
    {
     "data": {
      "text/plain": [
       "[3,4,2,2,4]"
      ]
     },
     "metadata": {},
     "output_type": "display_data"
    }
   ],
   "source": [
    "let test24 = \"the BOok is So big!\"\n",
    "wordLengths test24"
   ]
  },
  {
   "cell_type": "markdown",
   "id": "91c5d9cf",
   "metadata": {},
   "source": [
    "### 題目 25: 查找列表中所有偶數的最大值 (安全版本)\n",
    "任務： 寫一個函數 maxOfEvens，接收一個 [Int] 列表。它應該返回列表中所有偶數的最大值。\n",
    "- 如果列表中沒有偶數，則返回 Nothing。\n",
    "- 如果列表中有偶數，則返回 Just 其最大值。\n",
    "\n",
    "學習重點：\n",
    "- 組合 filter 和 findMax： 利用你之前寫的 findMax 函數（或標準庫的 maximum 並處理 Maybe）。\n",
    "- Maybe 型別的應用： 處理可能沒有結果的情況。\n",
    "- 管道操作 (|> 或 &) 和函數組合 (.)： 更流暢地串聯操作。\n",
    "- 預期函數簽名： maxOfEvens :: [Int] -> Maybe Int\n",
    "\n",
    "提示： 先過濾出偶數，然後對結果列表調用 findMax。\n"
   ]
  },
  {
   "cell_type": "code",
   "execution_count": 37,
   "id": "cb512bb4",
   "metadata": {},
   "outputs": [],
   "source": [
    "maxOfEvens :: [Int] -> Maybe Int\n",
    "maxOfEvens = findMax . filter even  \n",
    "\n",
    "\n",
    "findMax :: [Int] -> Maybe Int\n",
    "findMax [] = Nothing\n",
    "findMax (x:xs) = Just maxNum\n",
    "    where\n",
    "        maxNum = max x (Data.Maybe.fromMaybe x (findMax xs))\n",
    "        \n",
    "\n",
    "-- Best\n",
    "findMax' :: (Ord a) => [a] -> Maybe a\n",
    "findMax' [] = Nothing\n",
    "findMax' (x:xs) = Just (foldr max x xs)\n"
   ]
  },
  {
   "cell_type": "markdown",
   "id": "edff9c2b",
   "metadata": {},
   "source": [
    "#### Test25 "
   ]
  },
  {
   "cell_type": "code",
   "execution_count": 42,
   "id": "faff309c",
   "metadata": {},
   "outputs": [
    {
     "data": {
      "text/plain": [
       "Just 48"
      ]
     },
     "metadata": {},
     "output_type": "display_data"
    },
    {
     "data": {
      "text/html": [
       "<style>/* Styles used for the Hoogle display in the pager */\n",
       ".hoogle-doc {\n",
       "display: block;\n",
       "padding-bottom: 1.3em;\n",
       "padding-left: 0.4em;\n",
       "}\n",
       ".hoogle-code {\n",
       "display: block;\n",
       "font-family: monospace;\n",
       "white-space: pre;\n",
       "}\n",
       ".hoogle-text {\n",
       "display: block;\n",
       "}\n",
       ".hoogle-name {\n",
       "color: green;\n",
       "font-weight: bold;\n",
       "}\n",
       ".hoogle-head {\n",
       "font-weight: bold;\n",
       "}\n",
       ".hoogle-sub {\n",
       "display: block;\n",
       "margin-left: 0.4em;\n",
       "}\n",
       ".hoogle-package {\n",
       "font-weight: bold;\n",
       "font-style: italic;\n",
       "}\n",
       ".hoogle-module {\n",
       "font-weight: bold;\n",
       "}\n",
       ".hoogle-class {\n",
       "font-weight: bold;\n",
       "}\n",
       "\n",
       ".get-type {\n",
       "color: green;\n",
       "font-weight: bold;\n",
       "font-family: monospace;\n",
       "display: block;\n",
       "white-space: pre-wrap;\n",
       "}\n",
       ".show-type {\n",
       "color: green;\n",
       "font-weight: bold;\n",
       "font-family: monospace;\n",
       "margin-left: 1em;\n",
       "}\n",
       ".mono {\n",
       "font-family: monospace;\n",
       "display: block;\n",
       "}\n",
       ".err-msg {\n",
       "color: red;\n",
       "font-style: italic;\n",
       "font-family: monospace;\n",
       "white-space: pre;\n",
       "display: block;\n",
       "}\n",
       "#unshowable {\n",
       "color: red;\n",
       "font-weight: bold;\n",
       "}\n",
       ".err-msg.in.collapse {\n",
       "padding-top: 0.7em;\n",
       "}\n",
       "\n",
       ".highlight-code {\n",
       "white-space: pre;\n",
       "font-family: monospace;\n",
       "}\n",
       "\n",
       ".suggestion-warning { \n",
       "font-weight: bold;\n",
       "color: rgb(200, 130, 0);\n",
       "}\n",
       ".suggestion-error { \n",
       "font-weight: bold;\n",
       "color: red;\n",
       "}\n",
       ".suggestion-name {\n",
       "font-weight: bold;\n",
       "}\n",
       "\n",
       "</style><span class='get-type'>Data.Maybe.fromMaybe :: forall a. a -> Maybe a -> a</span>"
      ],
      "text/plain": [
       "Data.Maybe.fromMaybe :: forall a. a -> Maybe a -> a"
      ]
     },
     "metadata": {},
     "output_type": "display_data"
    }
   ],
   "source": [
    "let test25 = [25, 11, 22, 12, 3, 4, 5, 13, 11, 85, 39, 48]\n",
    "maxOfEvens test25\n",
    "\n",
    ":t Data.Maybe.fromMaybe\n"
   ]
  },
  {
   "cell_type": "markdown",
   "id": "d8a3293d",
   "metadata": {},
   "source": [
    "### 題目 26: 根據謂詞分割列表\n",
    "任務： 寫一個函數 partitionBy，它接收一個謂詞（一個返回 Bool 的函數 a -> Bool）和一個列表 [a]。返回一個元組，其中第一個列表包含所有滿足謂詞的元素，第二個列表包含所有不滿足謂詞的元素。\n",
    "\n",
    "學習重點：\n",
    "- 高階函數： 函數作為參數。\n",
    "- Data.List.partition： 這個函數正好實現了這個功能，請嘗試自己實現一遍，然後再對比 partition 的用法。\n",
    "- 元組的使用： 返回兩個列表的結果。\n",
    "- 預期函數簽名： partitionBy :: (a -> Bool) -> [a] -> ([a], [a])\n",
    "\n",
    "例子： partitionBy even [1, 2, 3, 4, 5] 應該返回 ([2, 4], [1, 3, 5])。\n",
    "\n",
    "提示： 可以通過遞歸實現，或者使用 foldr。"
   ]
  },
  {
   "cell_type": "code",
   "execution_count": 5,
   "id": "dfd2085f",
   "metadata": {},
   "outputs": [],
   "source": [
    "partitionBy' :: (a -> Bool) -> [a] -> ([a], [a])\n",
    "partitionBy' _ [] = ([], [])\n",
    "partitionBy' f (x:xs) = if f x \n",
    "    then (x:val, rest)\n",
    "    else (val, x:rest)\n",
    "    where (val, rest) = partitionBy' f xs"
   ]
  },
  {
   "cell_type": "markdown",
   "id": "97338059",
   "metadata": {},
   "source": [
    "#### Test26"
   ]
  },
  {
   "cell_type": "code",
   "execution_count": 7,
   "id": "06abcd62",
   "metadata": {},
   "outputs": [
    {
     "data": {
      "text/plain": [
       "([1,3,5,7,9],[2,4,6,8,10])"
      ]
     },
     "metadata": {},
     "output_type": "display_data"
    }
   ],
   "source": [
    "let test26 = [1,2,3,4,5,6,7,8,9,10]\n",
    "\n",
    "partitionBy' odd test26"
   ]
  },
  {
   "cell_type": "markdown",
   "id": "b889c302",
   "metadata": {},
   "source": [
    "### 題目 27: 檢查列表中的所有元素是否都滿足某個條件\n",
    "任務： 寫一個函數 allSatisfy，接收一個謂詞 (a -> Bool) 和一個列表 [a]。如果列表中的所有元素都滿足該謂詞，返回 True；否則返回 False。對於空列表，應返回 True。\n",
    "\n",
    "學習重點：\n",
    "- Bool 邏輯： 處理布林條件。\n",
    "- 遞歸或 fold： 遍歷列表並檢查每個元素。\n",
    "- Data.List.all： 這是標準庫中實現這個功能的函數，先嘗試自己實現。\n",
    "- 預期函數簽名： allSatisfy :: (a -> Bool) -> [a] -> Bool\n",
    "\n",
    "例子：\n",
    "- allSatisfy even [2, 4, 6] 應該返回 True。\n",
    "- allSatisfy (>0) [1, 2, -3] 應該返回 False。\n",
    "- allSatisfy (const True) [] 應該返回 True。"
   ]
  },
  {
   "cell_type": "code",
   "execution_count": 15,
   "id": "766e5415",
   "metadata": {},
   "outputs": [
    {
     "data": {
      "text/html": [
       "<style>/* Styles used for the Hoogle display in the pager */\n",
       ".hoogle-doc {\n",
       "display: block;\n",
       "padding-bottom: 1.3em;\n",
       "padding-left: 0.4em;\n",
       "}\n",
       ".hoogle-code {\n",
       "display: block;\n",
       "font-family: monospace;\n",
       "white-space: pre;\n",
       "}\n",
       ".hoogle-text {\n",
       "display: block;\n",
       "}\n",
       ".hoogle-name {\n",
       "color: green;\n",
       "font-weight: bold;\n",
       "}\n",
       ".hoogle-head {\n",
       "font-weight: bold;\n",
       "}\n",
       ".hoogle-sub {\n",
       "display: block;\n",
       "margin-left: 0.4em;\n",
       "}\n",
       ".hoogle-package {\n",
       "font-weight: bold;\n",
       "font-style: italic;\n",
       "}\n",
       ".hoogle-module {\n",
       "font-weight: bold;\n",
       "}\n",
       ".hoogle-class {\n",
       "font-weight: bold;\n",
       "}\n",
       "\n",
       ".get-type {\n",
       "color: green;\n",
       "font-weight: bold;\n",
       "font-family: monospace;\n",
       "display: block;\n",
       "white-space: pre-wrap;\n",
       "}\n",
       ".show-type {\n",
       "color: green;\n",
       "font-weight: bold;\n",
       "font-family: monospace;\n",
       "margin-left: 1em;\n",
       "}\n",
       ".mono {\n",
       "font-family: monospace;\n",
       "display: block;\n",
       "}\n",
       ".err-msg {\n",
       "color: red;\n",
       "font-style: italic;\n",
       "font-family: monospace;\n",
       "white-space: pre;\n",
       "display: block;\n",
       "}\n",
       "#unshowable {\n",
       "color: red;\n",
       "font-weight: bold;\n",
       "}\n",
       ".err-msg.in.collapse {\n",
       "padding-top: 0.7em;\n",
       "}\n",
       "\n",
       ".highlight-code {\n",
       "white-space: pre;\n",
       "font-family: monospace;\n",
       "}\n",
       "\n",
       ".suggestion-warning { \n",
       "font-weight: bold;\n",
       "color: rgb(200, 130, 0);\n",
       "}\n",
       ".suggestion-error { \n",
       "font-weight: bold;\n",
       "color: red;\n",
       "}\n",
       ".suggestion-name {\n",
       "font-weight: bold;\n",
       "}\n",
       "\n",
       "</style><div class=\"suggestion-name\" style=\"clear:both;\">Redundant if</div><div class=\"suggestion-row\" style=\"float: left;\"><div class=\"suggestion-warning\">Found:</div><div class=\"highlight-code\" id=\"haskell\">if not $ f val then False else acc</div></div><div class=\"suggestion-row\" style=\"float: left;\"><div class=\"suggestion-warning\">Why Not:</div><div class=\"highlight-code\" id=\"haskell\">not (not $ f val) && acc</div></div>"
      ],
      "text/plain": [
       "Line 3: Redundant if\n",
       "Found:\n",
       "if not $ f val then False else acc\n",
       "Why not:\n",
       "not (not $ f val) && acc"
      ]
     },
     "metadata": {},
     "output_type": "display_data"
    }
   ],
   "source": [
    "allSatisfy :: (a -> Bool) -> [a] -> Bool\n",
    "allSatisfy f [] = True\n",
    "allSatisfy f xs = foldr (\\val acc -> if not $ f val then False else acc) True xs\n",
    "\n",
    "\n",
    "\n",
    "-- Best\n",
    "allSatisfy' :: (a -> Bool) -> [a] -> Bool\n",
    "allSatisfy' f [] = True\n",
    "allSatisfy' f xs = foldr (\\val acc -> f val && acc) True xs\n",
    "\n",
    "\n",
    "-- Standard Libray\n",
    "all' :: (a -> Bool) -> [a] -> Bool\n",
    "all' _ []     = True\n",
    "all' p (x:xs) = p x && all p xs"
   ]
  },
  {
   "cell_type": "markdown",
   "id": "e5f68d89",
   "metadata": {},
   "source": [
    "#### Test27 "
   ]
  },
  {
   "cell_type": "code",
   "execution_count": 17,
   "id": "17a789b5",
   "metadata": {},
   "outputs": [
    {
     "data": {
      "text/plain": [
       "False"
      ]
     },
     "metadata": {},
     "output_type": "display_data"
    },
    {
     "data": {
      "text/plain": [
       "True"
      ]
     },
     "metadata": {},
     "output_type": "display_data"
    }
   ],
   "source": [
    "let test27 = [1,2,3,4,5,6]\n",
    "let test27_2 = [2,4,6,8,10]\n",
    "\n",
    "allSatisfy even test27\n",
    "allSatisfy even test27_2"
   ]
  },
  {
   "cell_type": "markdown",
   "id": "da0ca3f9",
   "metadata": {},
   "source": [
    "### 題目 28: 根據鍵更新 Map 中的值\n",
    "任務： 寫一個函數 updateMapValue，接收一個更新函數 (v -> v)、一個鍵 k 和一個 Map k v。\n",
    "- 如果鍵 k 在 Map 中存在，則使用更新函數應用於對應的值，並將更新後的鍵值對存回 Map。\n",
    "- 如果鍵 k 不存在，則 Map 保持不變。\n",
    "\n",
    "學習重點：\n",
    "- Data.Map 的更新操作： 使用 adjust 函數。\n",
    "- 高階函數作為參數： 接收一個函數來修改 Map 中的值。\n",
    "- 函數型別的靈活性。\n",
    "- 預期函數簽名： updateMapValue :: Ord k => (v -> v) -> k -> Map k v -> Map k v\n",
    "\n",
    "例子：\n",
    "- updateMapValue (+1) \"a\" (fromList [(\"a\", 1), (\"b\", 2)]) 應該返回 fromList [(\"a\", 2), (\"b\", 2)]。\n",
    "- updateMapValue (*10) \"c\" (fromList [(\"a\", 1), (\"b\", 2)]) 應該返回 fromList [(\"a\", 1), (\"b\", 2)]。\n",
    "\n",
    "\n",
    "提示： Data.Map 模組提供了 adjust 函數，它專門用於這個目的。"
   ]
  },
  {
   "cell_type": "code",
   "execution_count": 35,
   "id": "99f2be28",
   "metadata": {},
   "outputs": [],
   "source": [
    "updateMapValue :: Ord k => (v -> v) -> k -> Map.Map k v -> Map.Map k v\n",
    "updateMapValue func key m = if key `elem` Map.keys m\n",
    "    then Map.adjust func key m\n",
    "    else m\n",
    "\n",
    "-- Best & Standard Library\n",
    "updateMapValue' :: Ord k => (v -> v) -> k -> Map.Map k v -> Map.Map k v\n",
    "updateMapValue' = Map.adjust"
   ]
  },
  {
   "cell_type": "markdown",
   "id": "b4a58889",
   "metadata": {},
   "source": [
    "#### Test28"
   ]
  },
  {
   "cell_type": "code",
   "execution_count": 36,
   "id": "05646469",
   "metadata": {},
   "outputs": [
    {
     "data": {
      "text/plain": [
       "fromList [(\"a\",1),(\"b\",7)]"
      ]
     },
     "metadata": {},
     "output_type": "display_data"
    }
   ],
   "source": [
    "let test28 = Map.fromList [(\"a\", 1), (\"b\", 2)]\n",
    "\n",
    "updateMapValue (+5) \"b\" test28"
   ]
  },
  {
   "cell_type": "markdown",
   "id": "263b6da8",
   "metadata": {},
   "source": [
    "## Day 5 "
   ]
  },
  {
   "cell_type": "markdown",
   "id": "a33c37ff",
   "metadata": {},
   "source": [
    "### Problem New 19 查找列表中所有出現次數超過 N 次的元素\n",
    "任務： 寫一個函數 findFrequentElements，接收一個 Int 值 n 和一個列表 [a]。返回一個列表，包含所有在原列表中出現次數嚴格大於 n 次的唯一元素。元素的順序不重要。\n",
    "\n",
    "學習重點：\n",
    "- 頻率計數： 結合 Data.Map 來高效地統計列表中每個元素的出現次數。\n",
    "- Data.Map 的進階使用： fromListWith 或手動 insertWith。\n",
    "- 列表過濾： 根據計數結果過濾元素。\n",
    "- 型別約束： 需要 Ord a 約束才能將 a 作為 Map 的鍵。\n",
    "- 函數串聯： 將計數和過濾邏輯組合起來。\n",
    "- 預期函數簽名： findFrequentElements :: Ord a => Int -> [a] -> [a]\n",
    "\n",
    "提示：\n",
    "- 首先，將列表轉換為一個頻率 Map (例如 Map a Int)。Data.Map.fromListWith (+) [(x, 1) | x <- list] 是一個好方法。\n",
    "- 然後，遍歷這個頻率 Map，選出值（頻率）大於 n 的鍵。\n",
    "- 你可以使用 Data.Map.keys 和 Data.Map.filter。\n"
   ]
  },
  {
   "cell_type": "code",
   "execution_count": 23,
   "id": "bb3713de",
   "metadata": {},
   "outputs": [],
   "source": [
    "findFrequentElements :: (Num a, Ord a) => a -> [a] -> [a]\n",
    "findFrequentElements n list = Map.keys . Map.filter (>=n) $ Map.fromListWith (+) [(x, 1) | x <- list]"
   ]
  },
  {
   "cell_type": "code",
   "execution_count": 25,
   "id": "36ab3440",
   "metadata": {},
   "outputs": [
    {
     "data": {
      "text/plain": [
       "[1,2,3,4,5,6]"
      ]
     },
     "metadata": {},
     "output_type": "display_data"
    }
   ],
   "source": [
    "let test19 = [1,1,2,2,2,2,3,3,3,3,6,6,6,6,6,5,5,5,5,2,2,3,1,4,4,4,7,7,8,9]\n",
    "\n",
    "findFrequentElements 3 test19"
   ]
  },
  {
   "cell_type": "markdown",
   "id": "03ef6991",
   "metadata": {},
   "source": [
    "### Problem New 20 執行簡單的字串替換\n",
    "任務： 寫一個函數 replaceString，接收三個 String：originalString (原始字串), target (要被替換的子字串), 和 replacement (替換成的子字串)。函數應返回一個新字串，其中 originalString 中所有 target 的出現都被 replacement 替換。\n",
    "\n",
    "學習重點：\n",
    "- 字串處理： String 其實是 [Char]，所以這是一個列表處理問題。\n",
    "- 模式匹配與遞歸： 巧妙地使用遞歸來尋找和替換子字串。\n",
    "- 高階函數組合： 考慮如何結合 take, drop, isPrefixOf (來自 Data.List)。\n",
    "- 預期函數簽名： replaceString :: String -> String -> String -> String\n",
    "\n",
    "提示：\n",
    "- 遞歸實現：\n",
    "- 基底情況：如果 originalString 為空，返回空字串。\n",
    "- 遞歸情況：檢查 originalString 是否以 target 為前綴。\n",
    "- 如果是：返回 replacement 加上對 originalString 剩餘部分（drop (length target) originalString）的遞歸呼叫。\n",
    "- 如果不是：返回 originalString 的第一個字元，加上對 originalString 剩餘部分（tail originalString）的遞歸呼叫。\n",
    "- 你需要 import Data.List (isPrefixOf)。"
   ]
  },
  {
   "cell_type": "code",
   "execution_count": 17,
   "id": "89639a2b",
   "metadata": {},
   "outputs": [],
   "source": [
    "replaceString :: String -> String -> String -> String\n",
    "replaceString [] _ _ = []\n",
    "replaceString ori tar rep = if tar `List.isPrefixOf` ori \n",
    "    then rep ++ replaceString (drop (length tar) ori) tar rep\n",
    "    else take 1 ori ++ replaceString (tail ori) tar rep"
   ]
  },
  {
   "cell_type": "markdown",
   "id": "ebc49d2f",
   "metadata": {},
   "source": [
    "#### Test20"
   ]
  },
  {
   "cell_type": "code",
   "execution_count": 19,
   "id": "69799b17",
   "metadata": {},
   "outputs": [
    {
     "data": {
      "text/plain": [
       "\"Coll! Bad Afternoon!! Hey Bad!\""
      ]
     },
     "metadata": {},
     "output_type": "display_data"
    }
   ],
   "source": [
    "let test20 = \"Coll! Good Afternoon!! Hey Good!\"\n",
    "\n",
    "replaceString test20 \"Good\" \"Bad\""
   ]
  },
  {
   "cell_type": "code",
   "execution_count": 15,
   "id": "43c99e0a",
   "metadata": {},
   "outputs": [
    {
     "data": {
      "text/html": [
       "<style>/* Styles used for the Hoogle display in the pager */\n",
       ".hoogle-doc {\n",
       "display: block;\n",
       "padding-bottom: 1.3em;\n",
       "padding-left: 0.4em;\n",
       "}\n",
       ".hoogle-code {\n",
       "display: block;\n",
       "font-family: monospace;\n",
       "white-space: pre;\n",
       "}\n",
       ".hoogle-text {\n",
       "display: block;\n",
       "}\n",
       ".hoogle-name {\n",
       "color: green;\n",
       "font-weight: bold;\n",
       "}\n",
       ".hoogle-head {\n",
       "font-weight: bold;\n",
       "}\n",
       ".hoogle-sub {\n",
       "display: block;\n",
       "margin-left: 0.4em;\n",
       "}\n",
       ".hoogle-package {\n",
       "font-weight: bold;\n",
       "font-style: italic;\n",
       "}\n",
       ".hoogle-module {\n",
       "font-weight: bold;\n",
       "}\n",
       ".hoogle-class {\n",
       "font-weight: bold;\n",
       "}\n",
       "\n",
       ".get-type {\n",
       "color: green;\n",
       "font-weight: bold;\n",
       "font-family: monospace;\n",
       "display: block;\n",
       "white-space: pre-wrap;\n",
       "}\n",
       ".show-type {\n",
       "color: green;\n",
       "font-weight: bold;\n",
       "font-family: monospace;\n",
       "margin-left: 1em;\n",
       "}\n",
       ".mono {\n",
       "font-family: monospace;\n",
       "display: block;\n",
       "}\n",
       ".err-msg {\n",
       "color: red;\n",
       "font-style: italic;\n",
       "font-family: monospace;\n",
       "white-space: pre;\n",
       "display: block;\n",
       "}\n",
       "#unshowable {\n",
       "color: red;\n",
       "font-weight: bold;\n",
       "}\n",
       ".err-msg.in.collapse {\n",
       "padding-top: 0.7em;\n",
       "}\n",
       "\n",
       ".highlight-code {\n",
       "white-space: pre;\n",
       "font-family: monospace;\n",
       "}\n",
       "\n",
       ".suggestion-warning { \n",
       "font-weight: bold;\n",
       "color: rgb(200, 130, 0);\n",
       "}\n",
       ".suggestion-error { \n",
       "font-weight: bold;\n",
       "color: red;\n",
       "}\n",
       ".suggestion-name {\n",
       "font-weight: bold;\n",
       "}\n",
       "\n",
       "</style><span class='get-type'>take :: forall a. Int -> [a] -> [a]</span>"
      ],
      "text/plain": [
       "take :: forall a. Int -> [a] -> [a]"
      ]
     },
     "metadata": {},
     "output_type": "display_data"
    }
   ],
   "source": [
    ":t take"
   ]
  },
  {
   "cell_type": "markdown",
   "id": "d0b723ce",
   "metadata": {},
   "source": [
    "### 題目 21 排序列表中的每個字串\n",
    "任務： 寫一個函數 sortStringsInList，接收一個 [String] 列表。返回一個新列表，其中每個 String 元素都被字母順序排序了（例如 \"bca\" 變成 \"abc\"）。\n",
    "\n",
    "學習重點：\n",
    "- Data.List.sort 的應用： 使用標準庫的排序函數。\n",
    "- map 的多層應用： 在列表的每個元素上應用另一個操作。\n",
    "- 字串 (即 [Char]) 的排序： String 本身就是 [Char]，sort 函數可以直接應用於 String。\n",
    "- 預期函數簽名： sortStringsInList :: [String] -> [String]\n",
    "\n",
    "提示： 這是一個非常直接的 map 應用。"
   ]
  },
  {
   "cell_type": "code",
   "execution_count": 23,
   "id": "dde9efdc",
   "metadata": {},
   "outputs": [],
   "source": [
    "sortStringsInList :: [String] -> [String]\n",
    "sortStringsInList = map List.sort"
   ]
  },
  {
   "cell_type": "markdown",
   "id": "d1f94cc4",
   "metadata": {},
   "source": [
    "#### Test21 "
   ]
  },
  {
   "cell_type": "code",
   "execution_count": 24,
   "id": "e45fb7eb",
   "metadata": {},
   "outputs": [
    {
     "data": {
      "text/plain": [
       "[\"abc\",\"dgoo\",\"dgoo\",\"ceh\"]"
      ]
     },
     "metadata": {},
     "output_type": "display_data"
    }
   ],
   "source": [
    "let test21 = [\"bca\", \"doog\", \"good\", \"che\"]\n",
    "\n",
    "sortStringsInList test21"
   ]
  },
  {
   "cell_type": "markdown",
   "id": "a5e9faa6",
   "metadata": {},
   "source": [
    "### 題目 22: 將 Either 列表轉換為 Either 的列表 (全部成功或第一個錯誤)\n",
    "任務： 寫一個函數 sequenceEither，它接收一個 [Either e a] 型別的列表。\n",
    "- 如果列表中的所有元素都是 Right a，則返回 Right [a]，其中 [a] 包含了所有 Right 的內部值。\n",
    "- 如果列表中有任何一個 Left e，則立即返回第一個遇到的 Left e。\n",
    "\n",
    "學習重點：\n",
    "- Either 的進階應用： 理解如何「短路」一個操作序列，這與 Maybe 的鏈式操作類似，也是 Monadic 概念的體現。\n",
    "- 模式匹配與遞歸： 遍歷 Either 列表，並根據元素是 Left 還是 Right 做出判斷。\n",
    "- 類似 sequence 的行為： 這個函數的行為與 Control.Monad.sequence 在 Either 上的行為非常相似。\n",
    "- 預期函數簽名： sequenceEither :: [Either e a] -> Either e [a]\n",
    "\n",
    "提示：\n",
    "- 基底情況：空列表應該返回 Right []。\n",
    "- 遞歸情況：處理 (x : xs)。\n",
    "- 如果 x 是 Left err，則直接返回 Left err。\n",
    "- 如果 x 是 Right val，則遞歸呼叫 sequenceEither xs。如果遞歸結果是 Left err'，就返回 Left err'；如果遞歸結果是 Right restOfList，就返回 Right (val : restOfList)。"
   ]
  },
  {
   "cell_type": "code",
   "execution_count": 5,
   "id": "e32679c7",
   "metadata": {},
   "outputs": [],
   "source": [
    "sequenceEither :: [Either e a] -> Either e [a]\n",
    "sequenceEither [] = Right []\n",
    "sequenceEither (n:xs) = case n of \n",
    "    Left err -> Left err\n",
    "    Right val -> case sequenceEither xs of \n",
    "        Left err' -> Left err'\n",
    "        Right restOfValues -> Right (val: restOfValues)"
   ]
  },
  {
   "cell_type": "markdown",
   "id": "b937a1d5",
   "metadata": {},
   "source": [
    "#### Test22 "
   ]
  },
  {
   "cell_type": "code",
   "execution_count": 7,
   "id": "809f43f4",
   "metadata": {},
   "outputs": [
    {
     "data": {
      "text/plain": [
       "Left \"Error 2\""
      ]
     },
     "metadata": {},
     "output_type": "display_data"
    },
    {
     "data": {
      "text/plain": [
       "Right [10,20,60,80]"
      ]
     },
     "metadata": {},
     "output_type": "display_data"
    }
   ],
   "source": [
    "let test22 = [Right 10, Left \"Error 2\", Right 20, Left \"Error 3\"]\n",
    "let test22_true = [Right 10, Right 20, Right 60, Right 80]\n",
    "\n",
    "sequenceEither test22\n",
    "sequenceEither test22_true"
   ]
  },
  {
   "cell_type": "markdown",
   "id": "3a11985a",
   "metadata": {},
   "source": [
    "### 題目 23: 壓縮重複的元素 (Run-Length Encoding 的一部分)\n",
    "任務： 寫一個函數 packDuplicates，接收一個列表 [a]。返回一個新列表，其中連續重複的元素被打包成子列表。\n",
    "\n",
    "學習重點：\n",
    "- 列表的遞歸處理： 需要在遞歸中檢查當前元素和下一個元素是否相同。\n",
    "- Eq 型別類別約束： 元素需要是可比較的。\n",
    "- 複雜的列表構建： 在遞歸過程中構建子列表和主列表。\n",
    "- 預期函數簽名： packDuplicates :: Eq a => [a] -> [[a]]\n",
    "- 例子： packDuplicates [1, 1, 1, 2, 3, 3, 1, 1] 應該返回 [[1, 1, 1], [2], [3, 3], [1, 1]]。\n",
    "\n",
    "提示：\n",
    "- 基底情況：空列表返回空列表。\n",
    "- 遞歸情況：處理 (x : xs)。\n",
    "- 使用 span 函數 (span :: (a -> Bool) -> [a] -> ([a], [a])) 來將列表分為兩部分：前綴（所有與 x 相等的連續元素）和剩餘部分。\n",
    "- 然後將前綴作為一個子列表，並對剩餘部分進行遞歸呼叫。\n",
    "- 你需要 import Data.List (span)。"
   ]
  },
  {
   "cell_type": "code",
   "execution_count": 49,
   "id": "e25aaa4d",
   "metadata": {},
   "outputs": [],
   "source": [
    "packDuplicates :: Eq a => [a] -> [[a]]\n",
    "packDuplicates [] = []\n",
    "packDuplicates (x:xs) = (x: chunks) : packDuplicates rest\n",
    "    where (chunks, rest) = span (==x) xs"
   ]
  },
  {
   "cell_type": "markdown",
   "id": "35a5bf42",
   "metadata": {},
   "source": [
    "#### Test23 "
   ]
  },
  {
   "cell_type": "code",
   "execution_count": 50,
   "id": "28277ad8",
   "metadata": {},
   "outputs": [
    {
     "data": {
      "text/plain": [
       "[[1,1,1],[2],[3,3],[1,1],[3,3]]"
      ]
     },
     "metadata": {},
     "output_type": "display_data"
    }
   ],
   "source": [
    "let test23 = [1,1,1,2,3,3,1,1,3,3]\n",
    "\n",
    "packDuplicates test23"
   ]
  },
  {
   "cell_type": "markdown",
   "id": "dcde9612",
   "metadata": {},
   "source": [
    "## Day 4"
   ]
  },
  {
   "cell_type": "markdown",
   "id": "7e2e27e1",
   "metadata": {},
   "source": [
    "### Problem 16 安全的 Map 查找與預設值\n",
    "任務： \n",
    "- 寫一個函數 lookupOrDefault，它接收一個鍵 (key)、一個預設值 (defaultValue) 和一個 Data.Map.Map（映射/字典）。如果該鍵在 Map 中存在，則返回對應的值；如果不存在，則返回預設值。\n",
    "\n",
    "學習重點：\n",
    "- Data.Map.Map 的基本使用： 導入 Data.Map 模組，並使用 lookup 函數。\n",
    "- 處理 Maybe 結果： Data.Map.lookup 返回 Maybe v，你需要根據它是 Just 還是 Nothing 來決定返回實際值還是預設值。\n",
    "- 型別約束： 了解 Ord k 約束對於 Map 的鍵是必需的。\n",
    "- 預期函數簽名： lookupOrDefault :: Ord k => v -> k -> Map k v -> v\n",
    "\n",
    "提示： 你可以使用 case 表達式來處理 lookup 的結果。記得在 Exercise.hs 檔案頂部添加 import Data.Map (Map, lookup)。"
   ]
  },
  {
   "cell_type": "code",
   "execution_count": 59,
   "id": "835c3da6",
   "metadata": {},
   "outputs": [
    {
     "data": {
      "text/html": [
       "<style>/* Styles used for the Hoogle display in the pager */\n",
       ".hoogle-doc {\n",
       "display: block;\n",
       "padding-bottom: 1.3em;\n",
       "padding-left: 0.4em;\n",
       "}\n",
       ".hoogle-code {\n",
       "display: block;\n",
       "font-family: monospace;\n",
       "white-space: pre;\n",
       "}\n",
       ".hoogle-text {\n",
       "display: block;\n",
       "}\n",
       ".hoogle-name {\n",
       "color: green;\n",
       "font-weight: bold;\n",
       "}\n",
       ".hoogle-head {\n",
       "font-weight: bold;\n",
       "}\n",
       ".hoogle-sub {\n",
       "display: block;\n",
       "margin-left: 0.4em;\n",
       "}\n",
       ".hoogle-package {\n",
       "font-weight: bold;\n",
       "font-style: italic;\n",
       "}\n",
       ".hoogle-module {\n",
       "font-weight: bold;\n",
       "}\n",
       ".hoogle-class {\n",
       "font-weight: bold;\n",
       "}\n",
       "\n",
       ".get-type {\n",
       "color: green;\n",
       "font-weight: bold;\n",
       "font-family: monospace;\n",
       "display: block;\n",
       "white-space: pre-wrap;\n",
       "}\n",
       ".show-type {\n",
       "color: green;\n",
       "font-weight: bold;\n",
       "font-family: monospace;\n",
       "margin-left: 1em;\n",
       "}\n",
       ".mono {\n",
       "font-family: monospace;\n",
       "display: block;\n",
       "}\n",
       ".err-msg {\n",
       "color: red;\n",
       "font-style: italic;\n",
       "font-family: monospace;\n",
       "white-space: pre;\n",
       "display: block;\n",
       "}\n",
       "#unshowable {\n",
       "color: red;\n",
       "font-weight: bold;\n",
       "}\n",
       ".err-msg.in.collapse {\n",
       "padding-top: 0.7em;\n",
       "}\n",
       "\n",
       ".highlight-code {\n",
       "white-space: pre;\n",
       "font-family: monospace;\n",
       "}\n",
       "\n",
       ".suggestion-warning { \n",
       "font-weight: bold;\n",
       "color: rgb(200, 130, 0);\n",
       "}\n",
       ".suggestion-error { \n",
       "font-weight: bold;\n",
       "color: red;\n",
       "}\n",
       ".suggestion-name {\n",
       "font-weight: bold;\n",
       "}\n",
       "\n",
       "</style><div class=\"suggestion-name\" style=\"clear:both;\">Replace case with fromMaybe</div><div class=\"suggestion-row\" style=\"float: left;\"><div class=\"suggestion-warning\">Found:</div><div class=\"highlight-code\" id=\"haskell\">case M.lookup k m of\n",
       "  Just val -> val\n",
       "  Nothing -> dv</div></div><div class=\"suggestion-row\" style=\"float: left;\"><div class=\"suggestion-warning\">Why Not:</div><div class=\"highlight-code\" id=\"haskell\">Data.Maybe.fromMaybe dv (M.lookup k m)</div></div>"
      ],
      "text/plain": [
       "Line 2: Replace case with fromMaybe\n",
       "Found:\n",
       "case M.lookup k m of\n",
       "  Just val -> val\n",
       "  Nothing -> dv\n",
       "Why not:\n",
       "Data.Maybe.fromMaybe dv (M.lookup k m)"
      ]
     },
     "metadata": {},
     "output_type": "display_data"
    }
   ],
   "source": [
    "lookupOrDefault :: Ord k => v -> k -> Map k v -> v\n",
    "lookupOrDefault dv k m = case M.lookup k m of \n",
    "    Just val -> val\n",
    "    Nothing -> dv"
   ]
  },
  {
   "cell_type": "markdown",
   "id": "80bda4aa",
   "metadata": {},
   "source": [
    "#### Test 16"
   ]
  },
  {
   "cell_type": "code",
   "execution_count": 60,
   "id": "2f604eda",
   "metadata": {},
   "outputs": [],
   "source": [
    "myMap :: Map Int String\n",
    "myMap = M.fromList [(1, \"good\"), (2, \"better\"), (3, \"best\")]"
   ]
  },
  {
   "cell_type": "code",
   "execution_count": 65,
   "id": "d0d5823f",
   "metadata": {},
   "outputs": [
    {
     "data": {
      "text/plain": [
       "\"best\""
      ]
     },
     "metadata": {},
     "output_type": "display_data"
    }
   ],
   "source": [
    "lookupOrDefault \"None\" 3 myMap"
   ]
  },
  {
   "cell_type": "markdown",
   "id": "1a96e96b",
   "metadata": {},
   "source": [
    "### Problem 17 過濾嵌套的 Maybe 列表\n",
    "任務： 寫一個函數 filterJusts，它接收一個 [Maybe a] 型別的列表。這個函數應該返回一個新的列表，其中只包含那些 Just 值內部的值。換句話說，移除所有 Nothing，並將 Just 的內容解包。\n",
    "\n",
    "學習重點：\n",
    "- 處理嵌套的數據類型： 如何在處理列表的同時，也處理列表元素內部 (Maybe) 的結構。\n",
    "- 列表處理與模式匹配： 使用遞歸和模式匹配來過濾列表。\n",
    "- 高階函數應用： 思考是否可以使用 map 或 filter 結合模式匹配來解決。\n",
    "- 預期函數簽名： filterJusts :: [Maybe a] -> [a]\n",
    "\n",
    "提示：\n",
    "- 遞歸實現：基底情況是空列表。遞歸情況檢查列表頭部是 Just x 還是 Nothing。\n",
    "- 使用 catMaybes 函數（來自 Data.Maybe）可以更簡潔地完成這個任務，但請先嘗試自己實現一遍，再看看 catMaybes 的用法作為對比。"
   ]
  },
  {
   "cell_type": "code",
   "execution_count": 87,
   "id": "00d4705a",
   "metadata": {},
   "outputs": [
    {
     "data": {
      "text/html": [
       "<style>/* Styles used for the Hoogle display in the pager */\n",
       ".hoogle-doc {\n",
       "display: block;\n",
       "padding-bottom: 1.3em;\n",
       "padding-left: 0.4em;\n",
       "}\n",
       ".hoogle-code {\n",
       "display: block;\n",
       "font-family: monospace;\n",
       "white-space: pre;\n",
       "}\n",
       ".hoogle-text {\n",
       "display: block;\n",
       "}\n",
       ".hoogle-name {\n",
       "color: green;\n",
       "font-weight: bold;\n",
       "}\n",
       ".hoogle-head {\n",
       "font-weight: bold;\n",
       "}\n",
       ".hoogle-sub {\n",
       "display: block;\n",
       "margin-left: 0.4em;\n",
       "}\n",
       ".hoogle-package {\n",
       "font-weight: bold;\n",
       "font-style: italic;\n",
       "}\n",
       ".hoogle-module {\n",
       "font-weight: bold;\n",
       "}\n",
       ".hoogle-class {\n",
       "font-weight: bold;\n",
       "}\n",
       "\n",
       ".get-type {\n",
       "color: green;\n",
       "font-weight: bold;\n",
       "font-family: monospace;\n",
       "display: block;\n",
       "white-space: pre-wrap;\n",
       "}\n",
       ".show-type {\n",
       "color: green;\n",
       "font-weight: bold;\n",
       "font-family: monospace;\n",
       "margin-left: 1em;\n",
       "}\n",
       ".mono {\n",
       "font-family: monospace;\n",
       "display: block;\n",
       "}\n",
       ".err-msg {\n",
       "color: red;\n",
       "font-style: italic;\n",
       "font-family: monospace;\n",
       "white-space: pre;\n",
       "display: block;\n",
       "}\n",
       "#unshowable {\n",
       "color: red;\n",
       "font-weight: bold;\n",
       "}\n",
       ".err-msg.in.collapse {\n",
       "padding-top: 0.7em;\n",
       "}\n",
       "\n",
       ".highlight-code {\n",
       "white-space: pre;\n",
       "font-family: monospace;\n",
       "}\n",
       "\n",
       ".suggestion-warning { \n",
       "font-weight: bold;\n",
       "color: rgb(200, 130, 0);\n",
       "}\n",
       ".suggestion-error { \n",
       "font-weight: bold;\n",
       "color: red;\n",
       "}\n",
       ".suggestion-name {\n",
       "font-weight: bold;\n",
       "}\n",
       "\n",
       "</style><div class=\"suggestion-name\" style=\"clear:both;\">Use catMaybes</div><div class=\"suggestion-row\" style=\"float: left;\"><div class=\"suggestion-warning\">Found:</div><div class=\"highlight-code\" id=\"haskell\">[val | Just val <- list]</div></div><div class=\"suggestion-row\" style=\"float: left;\"><div class=\"suggestion-warning\">Why Not:</div><div class=\"highlight-code\" id=\"haskell\">Data.Maybe.catMaybes list</div></div>"
      ],
      "text/plain": [
       "Line 2: Use catMaybes\n",
       "Found:\n",
       "[val | Just val <- list]\n",
       "Why not:\n",
       "Data.Maybe.catMaybes list"
      ]
     },
     "metadata": {},
     "output_type": "display_data"
    }
   ],
   "source": [
    "filterJusts :: [Maybe a] -> [a]\n",
    "filterJusts list =  [val | Just val <- list]"
   ]
  },
  {
   "cell_type": "markdown",
   "id": "901a4fb3",
   "metadata": {},
   "source": [
    "#### Test 17"
   ]
  },
  {
   "cell_type": "code",
   "execution_count": 90,
   "id": "50bd3520",
   "metadata": {},
   "outputs": [],
   "source": [
    "let testList17 = [Just 5, Nothing, Just 11, Nothing, Just 233, Nothing, Nothing]"
   ]
  },
  {
   "cell_type": "code",
   "execution_count": 91,
   "id": "555381af",
   "metadata": {},
   "outputs": [
    {
     "data": {
      "text/plain": [
       "[5,11,233]"
      ]
     },
     "metadata": {},
     "output_type": "display_data"
    }
   ],
   "source": [
    "filterJusts testList17"
   ]
  },
  {
   "cell_type": "markdown",
   "id": "7c075f52",
   "metadata": {},
   "source": [
    "### Problem 18 樹形結構的葉子節點計數\n",
    "任務： 使用你之前定義的 IntTree 數據類型 (data IntTree = Leaf | Node Int IntTree IntTree)，寫一個函數 countLeaves，計算給定 IntTree 中 Leaf 節點的總數量。\n",
    "\n",
    "學習重點：\n",
    "- 遞歸數據結構的進一步操作： 練習對遞歸 ADT 進行模式匹配和遞歸遍歷。\n",
    "- 計數操作： 在遍歷過程中累積計數。\n",
    "- 預期函數簽名： countLeaves :: IntTree -> Int\n",
    "\n",
    "提示：\n",
    "- 基底情況：當遇到 Leaf 時，計數為 1。\n",
    "- 遞歸情況：當遇到 Node 時，總葉子數是其左子樹的葉子數加上右子樹的葉子數。"
   ]
  },
  {
   "cell_type": "code",
   "execution_count": 102,
   "id": "2477dfde",
   "metadata": {},
   "outputs": [],
   "source": [
    "countLeaves :: IntTree -> Int\n",
    "countLeaves Leaf = 1\n",
    "countLeaves (Node num left right) = countLeaves left + countLeaves right"
   ]
  },
  {
   "cell_type": "markdown",
   "id": "5eaf6ffa",
   "metadata": {},
   "source": [
    "#### Test 18"
   ]
  },
  {
   "cell_type": "code",
   "execution_count": 103,
   "id": "bf7de362",
   "metadata": {},
   "outputs": [],
   "source": [
    "let tree18_1 = Leaf\n",
    "let tree18_2 = Node 5 Leaf Leaf\n",
    "let tree18_3 = Node 10 \n",
    "            (Node 5 Leaf (Node 7 Leaf Leaf)) \n",
    "            (Node 15 (Node 12 Leaf Leaf) Leaf)\n"
   ]
  },
  {
   "cell_type": "code",
   "execution_count": 104,
   "id": "6b921d97",
   "metadata": {},
   "outputs": [
    {
     "data": {
      "text/plain": [
       "1"
      ]
     },
     "metadata": {},
     "output_type": "display_data"
    },
    {
     "data": {
      "text/plain": [
       "2"
      ]
     },
     "metadata": {},
     "output_type": "display_data"
    },
    {
     "data": {
      "text/plain": [
       "6"
      ]
     },
     "metadata": {},
     "output_type": "display_data"
    }
   ],
   "source": [
    "countLeaves tree18_1\n",
    "countLeaves tree18_2\n",
    "countLeaves tree18_3"
   ]
  },
  {
   "cell_type": "markdown",
   "id": "1f3f1e32",
   "metadata": {},
   "source": [
    "### Problem 19 互動式數字猜謎遊戲 (IO 應用)\n",
    "任務： 寫一個 IO 動作 guessTheNumber，讓電腦隨機生成一個 1 到 100 之間的數字，然後讓用戶猜測。\n",
    "- 程式應提示用戶輸入猜測。\n",
    "- 根據用戶的輸入，提示用戶「太高了」、「太低了」或「恭喜你，猜對了！」\n",
    "- 如果沒猜對，讓用戶繼續猜，直到猜對為止。\n",
    "\n",
    "學習重點：\n",
    "- 更多 IO 操作： getLine (讀取用戶輸入)、putStrLn (打印訊息)、read (將字串轉換為數字)。\n",
    "- 生成隨機數： 需要導入 System.Random 模組，使用 randomRIO 函數。\n",
    "- 遞歸的 IO 動作： 遊戲循環本質上是一個遞歸的 IO 函數。\n",
    "- 基本的錯誤處理： 簡單處理用戶輸入非數字的情況（例如，使用 readMaybe 或 Either，但為了簡化遊戲循環，可以先假設用戶輸入有效數字）。\n",
    "- 預期函數簽名： guessTheNumber :: IO ()\n",
    "\n",
    "提示：\n",
    "- 你需要導入 System.Random (randomRIO) 和 Control.Monad (forever) 或自己寫一個遞歸循環。\n",
    "- randomRIO (1, 100) 會生成一個範圍內的隨機整數。\n",
    "- 遊戲邏輯可以寫一個輔助遞歸函數 gameLoop :: Int -> IO ()，它接收目標數字作為參數。\n"
   ]
  },
  {
   "cell_type": "code",
   "execution_count": null,
   "id": "bb4f5393",
   "metadata": {},
   "outputs": [],
   "source": []
  },
  {
   "cell_type": "markdown",
   "id": "a47ab93d",
   "metadata": {},
   "source": [
    "#### Test 19"
   ]
  },
  {
   "cell_type": "code",
   "execution_count": null,
   "id": "af811565",
   "metadata": {},
   "outputs": [],
   "source": []
  },
  {
   "cell_type": "markdown",
   "id": "29bdd7c3",
   "metadata": {},
   "source": [
    "### Problem 20 創建並寫入多個檔案\n",
    "任務： 寫一個 IO 動作 createAndWriteFiles，它接收一個列表，其中每個元素都是一個包含檔案路徑和要寫入內容的元組 (FilePath, String)。這個函數應該遍歷這個列表，為每個元組創建或覆蓋對應的檔案，並將內容寫入其中。如果任何檔案操作失敗，打印一條錯誤訊息並繼續處理下一個檔案。\n",
    "\n",
    "學習重點：\n",
    "- 列表的 IO 處理： 如何遍歷一個列表，並在每個元素上執行 IO 動作。\n",
    "- mapM_ 或 forM_： 這些是 Control.Monad 模組中的高階函數，專門用於在列表（或其他 Monad）上執行 IO 動作並忽略結果。\n",
    "- writeFile： 用於寫入檔案。\n",
    "- 重複的 IO 錯誤處理： 在循環中應用 try。\n",
    "- 預期函數簽名： createAndWriteFiles :: [(FilePath, String)] -> IO ()\n",
    "\n",
    "提示：\n",
    "- 你可能需要 import Control.Exception (try, IOException)。\n",
    "- 你可以寫一個輔助函數 writeSingleFile :: (FilePath, String) -> IO () 來處理單個檔案的寫入和錯誤處理，然後對整個列表應用 mapM_ (或 forM_)。"
   ]
  },
  {
   "cell_type": "code",
   "execution_count": null,
   "id": "d7df3187",
   "metadata": {},
   "outputs": [],
   "source": []
  },
  {
   "cell_type": "markdown",
   "id": "699c1c60",
   "metadata": {},
   "source": [
    "#### Test 20"
   ]
  },
  {
   "cell_type": "code",
   "execution_count": null,
   "id": "0a75781a",
   "metadata": {},
   "outputs": [],
   "source": []
  },
  {
   "cell_type": "markdown",
   "id": "7771d6e8",
   "metadata": {},
   "source": [
    "## Day 3"
   ]
  },
  {
   "cell_type": "markdown",
   "id": "0f345970",
   "metadata": {},
   "source": [
    "### Problem 11\n",
    "計算列表的乘積 (使用 foldl)\n",
    "-- 寫一個函數 listProduct，接收一個數字列表，返回列表中所有數字的乘積。你必須使用 foldl 函數來實現這個功能。"
   ]
  },
  {
   "cell_type": "code",
   "execution_count": null,
   "id": "722dab23",
   "metadata": {},
   "outputs": [],
   "source": [
    "listProduct :: Num a => [a] -> a\n",
    "listProduct = foldl (*) 1"
   ]
  },
  {
   "cell_type": "markdown",
   "id": "fd31a764",
   "metadata": {},
   "source": [
    "#### Test 11"
   ]
  },
  {
   "cell_type": "code",
   "execution_count": null,
   "id": "8e5eb24d",
   "metadata": {},
   "outputs": [],
   "source": [
    "print $ \"problem 11: \" ++ show (listProduct [2, 3, 5])"
   ]
  },
  {
   "cell_type": "markdown",
   "id": "a810e790",
   "metadata": {},
   "source": [
    "### Problem 12\n",
    "安全的除法 (使用 Either)\n",
    "-- 寫一個函數 safeDivide，接收兩個數字 numerator (被除數) 和 divisor (除數)。\n",
    "-- 如果 divisor 是零，返回 Left \"Error: Division by zero\" (或者你自定義的錯誤訊息)。否則，執行除法操作，返回結果的 Right 值。"
   ]
  },
  {
   "cell_type": "code",
   "execution_count": 16,
   "id": "d19ce48d",
   "metadata": {},
   "outputs": [],
   "source": [
    "safeDivide :: (Eq a, Fractional a) => a -> a -> Either String a\n",
    "safeDivide numerator divisor\n",
    "    | divisor == 0 = Left \"Error: Division by zero\"\n",
    "    | otherwise = Right (numerator/divisor)"
   ]
  },
  {
   "cell_type": "markdown",
   "id": "ad10268d",
   "metadata": {},
   "source": [
    "#### Test 12"
   ]
  },
  {
   "cell_type": "code",
   "execution_count": null,
   "id": "2a50f794",
   "metadata": {},
   "outputs": [],
   "source": [
    "print $ \"problem 12: \" ++ show (safeDivide 10 5)\n",
    "print $ \"problem 12: \" ++ show (safeDivide 2 0)\n"
   ]
  },
  {
   "cell_type": "markdown",
   "id": "0634e444",
   "metadata": {},
   "source": [
    "### Problem 13\n",
    "查找列表中最大元素 (使用 Ord 約束)\n",
    "-- 寫一個函數 findMax，接收一個非空列表，返回列表中最大的元素。"
   ]
  },
  {
   "cell_type": "code",
   "execution_count": 23,
   "id": "7f1885fd",
   "metadata": {},
   "outputs": [
    {
     "data": {
      "text/html": [
       "<style>/* Styles used for the Hoogle display in the pager */\n",
       ".hoogle-doc {\n",
       "display: block;\n",
       "padding-bottom: 1.3em;\n",
       "padding-left: 0.4em;\n",
       "}\n",
       ".hoogle-code {\n",
       "display: block;\n",
       "font-family: monospace;\n",
       "white-space: pre;\n",
       "}\n",
       ".hoogle-text {\n",
       "display: block;\n",
       "}\n",
       ".hoogle-name {\n",
       "color: green;\n",
       "font-weight: bold;\n",
       "}\n",
       ".hoogle-head {\n",
       "font-weight: bold;\n",
       "}\n",
       ".hoogle-sub {\n",
       "display: block;\n",
       "margin-left: 0.4em;\n",
       "}\n",
       ".hoogle-package {\n",
       "font-weight: bold;\n",
       "font-style: italic;\n",
       "}\n",
       ".hoogle-module {\n",
       "font-weight: bold;\n",
       "}\n",
       ".hoogle-class {\n",
       "font-weight: bold;\n",
       "}\n",
       "\n",
       ".get-type {\n",
       "color: green;\n",
       "font-weight: bold;\n",
       "font-family: monospace;\n",
       "display: block;\n",
       "white-space: pre-wrap;\n",
       "}\n",
       ".show-type {\n",
       "color: green;\n",
       "font-weight: bold;\n",
       "font-family: monospace;\n",
       "margin-left: 1em;\n",
       "}\n",
       ".mono {\n",
       "font-family: monospace;\n",
       "display: block;\n",
       "}\n",
       ".err-msg {\n",
       "color: red;\n",
       "font-style: italic;\n",
       "font-family: monospace;\n",
       "white-space: pre;\n",
       "display: block;\n",
       "}\n",
       "#unshowable {\n",
       "color: red;\n",
       "font-weight: bold;\n",
       "}\n",
       ".err-msg.in.collapse {\n",
       "padding-top: 0.7em;\n",
       "}\n",
       "\n",
       ".highlight-code {\n",
       "white-space: pre;\n",
       "font-family: monospace;\n",
       "}\n",
       "\n",
       ".suggestion-warning { \n",
       "font-weight: bold;\n",
       "color: rgb(200, 130, 0);\n",
       "}\n",
       ".suggestion-error { \n",
       "font-weight: bold;\n",
       "color: red;\n",
       "}\n",
       ".suggestion-name {\n",
       "font-weight: bold;\n",
       "}\n",
       "\n",
       "</style><div class=\"suggestion-name\" style=\"clear:both;\">Replace case with fromMaybe</div><div class=\"suggestion-row\" style=\"float: left;\"><div class=\"suggestion-warning\">Found:</div><div class=\"highlight-code\" id=\"haskell\">case findMax nx of\n",
       "  Nothing -> n\n",
       "  Just a -> a</div></div><div class=\"suggestion-row\" style=\"float: left;\"><div class=\"suggestion-warning\">Why Not:</div><div class=\"highlight-code\" id=\"haskell\">Data.Maybe.fromMaybe n (findMax nx)</div></div>"
      ],
      "text/plain": [
       "Line 5: Replace case with fromMaybe\n",
       "Found:\n",
       "case findMax nx of\n",
       "  Nothing -> n\n",
       "  Just a -> a\n",
       "Why not:\n",
       "Data.Maybe.fromMaybe n (findMax nx)"
      ]
     },
     "metadata": {},
     "output_type": "display_data"
    }
   ],
   "source": [
    "findMax :: Ord a => [a] -> Maybe a\n",
    "findMax [] = Nothing\n",
    "findMax (n:nx) = Just maxNum\n",
    "    where \n",
    "        maxNum = max n (case findMax nx of \n",
    "                            Nothing -> n \n",
    "                            Just a -> a)"
   ]
  },
  {
   "cell_type": "markdown",
   "id": "877fdaea",
   "metadata": {},
   "source": [
    "#### Test 13"
   ]
  },
  {
   "cell_type": "code",
   "execution_count": null,
   "id": "2445287e",
   "metadata": {},
   "outputs": [],
   "source": [
    "-- Problem 13:\n",
    "print $ \"problem 13: \" ++ show (findMax [5, 1, 20, 12])\n",
    "print $ \"problem 13: \" ++ show (findMax [5.2, 1.1, 0.0, -0.1])\n",
    "print $ \"problem 13: \" ++ show (findMax [1])\n",
    "print $ \"problem 13: \" ++ show (findMax [] :: Maybe Int)"
   ]
  },
  {
   "cell_type": "markdown",
   "id": "ada9b8ce",
   "metadata": {},
   "source": [
    "### Problem 14\n",
    "簡單表達式求值器 (嵌套 ADT 與遞歸)\n",
    "-- 定義一個 ADT Expr，表示簡單的算術表達式。它應該有三種形式：\n",
    "-- Lit Int：表示一個整數字面量（例如 Lit 5）。\n",
    "-- Add Expr Expr：表示兩個表達式的加法（例如 Add (Lit 1) (Lit 2)）。\n",
    "-- Mul Expr Expr：表示兩個表達式的乘法（例如 Mul (Lit 3) (Lit 4)）。\n",
    "-- 為 Expr 類型導出 Show 和 Eq 實例。\n",
    "-- 寫一個函數 evaluate，接收一個 Expr，返回其求值後的 Int 結果。"
   ]
  },
  {
   "cell_type": "code",
   "execution_count": 24,
   "id": "70cb2c55",
   "metadata": {},
   "outputs": [],
   "source": [
    "data Expr = Lit Int\n",
    "            | Add Expr Expr\n",
    "            | Mul Expr Expr\n",
    "            deriving (Show, Eq)\n",
    "\n",
    "evaluate :: Expr -> Int\n",
    "evaluate expr = case expr of\n",
    "    (Lit a) -> a\n",
    "    (Add e1 e2) -> evaluate e1 + evaluate e2\n",
    "    (Mul e1 e2) -> evaluate e1 * evaluate e2"
   ]
  },
  {
   "cell_type": "markdown",
   "id": "297431c2",
   "metadata": {},
   "source": [
    "#### Test 14"
   ]
  },
  {
   "cell_type": "code",
   "execution_count": null,
   "id": "24f13732",
   "metadata": {
    "slideshow": {
     "slide_type": "-"
    }
   },
   "outputs": [],
   "source": [
    "print $ \"problem 14: \" ++ show (evaluate (Lit 5))\n",
    "print $ \"problem 14: \" ++ show (evaluate (Add (Lit 1) (Lit 2)))\n",
    "print $ \"problem 14: \" ++ show (evaluate (Mul (Add (Mul (Lit 5) (Lit 2)) (Lit 5)) (Lit 2)))"
   ]
  },
  {
   "cell_type": "markdown",
   "id": "bee6cb65",
   "metadata": {},
   "source": [
    "### Problem 15\n",
    "讀取檔案內容並打印 (基礎 IO)\n",
    "-- 寫一個 IO 動作 printFileContent，接收一個檔案路徑 (String 或 FilePath)。\n",
    "-- 嘗試讀取該檔案的全部內容。\n",
    "-- 如果檔案存在並成功讀取，則將內容打印到控制台。\n",
    "-- 如果檔案不存在或讀取失敗，則打印一條錯誤訊息（例如 \"Error: File not found or could not be read.\"）。"
   ]
  },
  {
   "cell_type": "code",
   "execution_count": 29,
   "id": "3fd0f729",
   "metadata": {},
   "outputs": [],
   "source": [
    "printFileContent :: FilePath -> IO()\n",
    "printFileContent path = do\n",
    "    fileResult <- try (readFile path) :: IO (Either IOException String)\n",
    "\n",
    "    case fileResult of\n",
    "        Left err -> do\n",
    "            putStrLn \"Error: File not found or could not be read.\"\n",
    "            putStrLn $ \"Error: \" ++ show err\n",
    "        Right content -> do\n",
    "            putStrLn \"Success Read File...\"\n",
    "            putStrLn content\n",
    "            putStrLn \"--- 檔案讀取完畢 ---\""
   ]
  },
  {
   "cell_type": "markdown",
   "id": "c31108f1",
   "metadata": {},
   "source": [
    "#### Test 15"
   ]
  },
  {
   "cell_type": "code",
   "execution_count": null,
   "id": "8a4dc627",
   "metadata": {},
   "outputs": [],
   "source": [
    "printFileContent \"test.txt\"\n",
    "printFileContent \"non_existent_file.txt\""
   ]
  },
  {
   "cell_type": "markdown",
   "id": "dee0b303",
   "metadata": {},
   "source": [
    "## Day 2"
   ]
  },
  {
   "cell_type": "markdown",
   "id": "bf0b57fd",
   "metadata": {},
   "source": [
    "### Problem 6\n",
    "寫一個函數，接收一個上限整數 n，生成一個列表，其中包含從 1 到 n（包含 n）所有偶數的平方。"
   ]
  },
  {
   "cell_type": "code",
   "execution_count": 12,
   "id": "c9792d4e",
   "metadata": {},
   "outputs": [],
   "source": [
    "evenSquaresUpTo :: Int -> [Int]\n",
    "evenSquaresUpTo n = [ x * x | x <- [1..n], even x]"
   ]
  },
  {
   "cell_type": "markdown",
   "id": "7ae46362",
   "metadata": {},
   "source": [
    "#### Test 6"
   ]
  },
  {
   "cell_type": "code",
   "execution_count": null,
   "id": "97165603",
   "metadata": {},
   "outputs": [],
   "source": [
    "-- Problem 6:\n",
    "let num1 = 15\n",
    "\n",
    "putStrLn $ \"----- Problem 6 -----\"\n",
    "print $ show (evenSquaresUpTo num1)"
   ]
  },
  {
   "cell_type": "markdown",
   "id": "5a9265ea",
   "metadata": {},
   "source": [
    "### Problem 7\n",
    "寫一個函數，接收一個 Color 列表（使用你 Problem 3 定義的 Color ADT），返回一個包含兩個整數的元組 (Tuple)，第一個整數是列表中原色 (Red, Green, Blue) 的數量，第二個整數是 RGB 顏色的數量"
   ]
  },
  {
   "cell_type": "code",
   "execution_count": 13,
   "id": "9f2c9e94",
   "metadata": {},
   "outputs": [],
   "source": [
    "recountColorType :: [Color] -> (Int, Int)\n",
    "recountColorType [] = (0, 0)\n",
    "recountColorType (c: clist) = \n",
    "    if isPrimaryColor c\n",
    "        then (primaryCountRest + 1, rgbCountRest)\n",
    "        else (primaryCountRest, rgbCountRest + 1)\n",
    "    where\n",
    "        (primaryCountRest, rgbCountRest) = recountColorType clist\n",
    "\n",
    "\n",
    "countColorType :: [Color] -> (Int, Int)\n",
    "countColorType = foldr countColor (0, 0)\n",
    "    where\n",
    "        countColor :: Color -> (Int, Int) -> (Int, Int)\n",
    "        countColor color (a, b) = case color of\n",
    "                Red -> (a+1, b)\n",
    "                Blue -> (a+1, b)\n",
    "                Green -> (a+1, b)\n",
    "                RGB {} -> (a, b+1)"
   ]
  },
  {
   "cell_type": "markdown",
   "id": "83c87ce9",
   "metadata": {},
   "source": [
    "#### Test 7"
   ]
  },
  {
   "cell_type": "code",
   "execution_count": null,
   "id": "2cf4bec5",
   "metadata": {},
   "outputs": [],
   "source": [
    "-- Problem 7:\n",
    "putStrLn $ \"----- Problem 7 -----\"\n",
    "let colorList = [Red, Green, Green, Blue, Blue, RGB 1 2 3, RGB 2 3 5]\n",
    "\n",
    "print $ \"Recursive method: \" ++ show (recountColorType colorList)\n",
    "print $ \"foldr method: \" ++ show (countColorType colorList)"
   ]
  },
  {
   "cell_type": "markdown",
   "id": "41289ffe",
   "metadata": {},
   "source": [
    "### Problem 8\n",
    "簡單二元樹求和 (遞歸數據結構) DFS? BFS? Post-order? pre-order? mid-order?\n",
    "-- 1. 定義一個簡單的二元樹數據類型 IntTree，其中每個節點 (Node) 包含一個整數值，並且有左子樹和右子樹；葉節點 (Leaf) 不包含值。\n",
    "-- 2. 為 IntTree 類型導出 Show 實例。\n",
    "-- 3. 寫一個函數 sumIntTree，接收一個 IntTree，返回樹中所有節點值的總和。"
   ]
  },
  {
   "cell_type": "code",
   "execution_count": 95,
   "id": "257a9737",
   "metadata": {},
   "outputs": [],
   "source": [
    "data IntTree = Leaf \n",
    "            | Node Int IntTree IntTree \n",
    "            deriving (Show, Eq)\n",
    "\n",
    "sumIntTree :: IntTree -> Int\n",
    "sumIntTree Leaf = 0\n",
    "sumIntTree (Node num leftTree rightTree) = \n",
    "    sumL + num + sumR\n",
    "    where\n",
    "        sumL = sumIntTree leftTree\n",
    "        sumR = sumIntTree rightTree"
   ]
  },
  {
   "cell_type": "markdown",
   "id": "eba8c683",
   "metadata": {},
   "source": [
    "#### Test 8"
   ]
  },
  {
   "cell_type": "code",
   "execution_count": null,
   "id": "6ca5d5e7",
   "metadata": {},
   "outputs": [],
   "source": [
    "putStrLn $ \"----- Problem 8 -----\"\n",
    "let tree1 = Leaf\n",
    "let tree2 = Node 5 Leaf Leaf\n",
    "let tree3 = Node 10 \n",
    "            (Node 5 Leaf (Node 7 Leaf Leaf)) \n",
    "            (Node 15 (Node 12 Leaf Leaf) Leaf)\n",
    "\n",
    "let sum1 = sumIntTree tree1\n",
    "let sum2 = sumIntTree tree2\n",
    "let sum3 = sumIntTree tree3\n",
    "let sumOfLeaf = sumIntTree Leaf\n",
    "\n",
    "print $ \"Tree 1 (Leaf) sum: \" ++ show sum1\n",
    "print $ \"Tree 2 (Node 5 Leaf Leaf) sum: \" ++ show sum2\n",
    "print $ \"Tree 3 sum: \" ++ show sum3\n",
    "print $ \"Sum of Leaf directly: \" ++ show sumOfLeaf"
   ]
  },
  {
   "cell_type": "markdown",
   "id": "d340983c",
   "metadata": {},
   "source": [
    "### Problem 9\n",
    "安全的列表索引查找 (結合 Maybe 和列表處理)\n",
    "-- 寫一個函數 safeIndex，接收一個列表和一個整數索引，嘗試獲取列表中該索引位置的元素。如果索引有效（在列表範圍內），返回包含該元素的 Maybe 值 (Just element)；如果索引無效（小於 0 或大於等於列表長度），返回 Nothing"
   ]
  },
  {
   "cell_type": "code",
   "execution_count": 15,
   "id": "697104e8",
   "metadata": {},
   "outputs": [],
   "source": [
    "safeIndex :: [a] -> Int -> Maybe a\n",
    "safeIndex [] _ = Nothing\n",
    "safeIndex (n : nx) 0 = Just n\n",
    "safeIndex (n : nx) index = \n",
    "    if index > 0\n",
    "        then safeIndex nx (index-1)\n",
    "        else Nothing\n",
    "\n",
    "-- Guard 寫法\n",
    "guardSafeIndex :: [a] -> Int -> Maybe a\n",
    "guardSafeIndex [] _     = Nothing -- 空列表\n",
    "guardSafeIndex (x:xs) i\n",
    "  | i < 0        = Nothing    -- 索引為負數\n",
    "  | i == 0       = Just x     -- 找到目標 (索引為0)\n",
    "  | otherwise    = safeIndex xs (i-1) -- 遞歸到下一個元素，索引減1"
   ]
  },
  {
   "cell_type": "markdown",
   "id": "bd0eff77",
   "metadata": {},
   "source": [
    "#### Test 9"
   ]
  },
  {
   "cell_type": "code",
   "execution_count": null,
   "id": "3bb8c7bd",
   "metadata": {},
   "outputs": [],
   "source": [
    "putStrLn $ \"----- Problem 9 -----\"\n",
    "let list9 = [1, 2, 3, 4 ,5 ,6 ,7, 8, 9, 10]\n",
    "print $ \"safeIndex: \" ++ show (safeIndex list9 0)"
   ]
  },
  {
   "cell_type": "markdown",
   "id": "44c697fa",
   "metadata": {},
   "source": [
    "### Problem 10\n",
    "在 Maybe 上應用函數 (引導到 Functor)\n",
    "-- 寫一個函數 applyMaybe，接收一個函數 f (類型 a -> b) 和一個 Maybe 值 (類型 Maybe a)。如果 Maybe 值是 Just x，則將 f 應用於 x，並返回結果的 Maybe 值 (Just (f x))；如果 Maybe 值是 Nothing，則直接返回 Nothing。"
   ]
  },
  {
   "cell_type": "code",
   "execution_count": null,
   "id": "89d945fa",
   "metadata": {},
   "outputs": [],
   "source": [
    "applyMaybe :: (a -> b) -> Maybe a -> Maybe b\n",
    "applyMaybe _ Nothing = Nothing\n",
    "applyMaybe func (Just val) = Just (func val)"
   ]
  },
  {
   "cell_type": "markdown",
   "id": "7d286c86",
   "metadata": {},
   "source": [
    "#### Test 10"
   ]
  },
  {
   "cell_type": "code",
   "execution_count": null,
   "id": "01862343",
   "metadata": {},
   "outputs": [],
   "source": [
    "-- Problem 10:\n",
    "putStrLn $ \"----- Problem 10 -----\"\n",
    "\n",
    "let ma = Just 5\n",
    "let na = Nothing\n",
    "let mb = Just \"Good\"\n",
    "let nb = Nothing\n",
    "\n",
    "\n",
    "print $ \"applyMaybe Int: \" ++ show (applyMaybe (\\val -> val*10) ma)\n",
    "print $ \"applyMaybe Int: \" ++ show (applyMaybe (\\val -> val*10) na)\n",
    "print $ \"applyMaybe String: \" ++ show (applyMaybe (\\val -> \"add \" ++ val) mb)\n",
    "print $ \"applyMaybe String: \" ++ show (applyMaybe (\\val -> \"add \" ++ val) nb)"
   ]
  },
  {
   "cell_type": "markdown",
   "id": "4a4e8bd2",
   "metadata": {},
   "source": [
    "## Day 1"
   ]
  },
  {
   "cell_type": "markdown",
   "id": "c7825ca5",
   "metadata": {},
   "source": [
    "### Problem 1\n",
    "接收一個整數列表和一個閾值整數，返回一個新列表，其中只包含原列表中所有大於該閾值的數字"
   ]
  },
  {
   "cell_type": "code",
   "execution_count": 33,
   "id": "4aa8db60",
   "metadata": {},
   "outputs": [],
   "source": [
    "filterGreaterThan :: Int -> [Int] -> [Int]\n",
    "filterGreaterThan threshold  = filter (> threshold)"
   ]
  },
  {
   "cell_type": "markdown",
   "id": "a0a58eb8",
   "metadata": {},
   "source": [
    "#### Test 1"
   ]
  },
  {
   "cell_type": "code",
   "execution_count": 34,
   "id": "71e08c69",
   "metadata": {},
   "outputs": [
    {
     "data": {
      "text/plain": [
       "[4,5]"
      ]
     },
     "metadata": {},
     "output_type": "display_data"
    }
   ],
   "source": [
    "-- Problem 1:\n",
    "let list = [1, 2, 3, 4, 5]\n",
    "    thr = 3 \n",
    "    filteredList = filterGreaterThan thr list\n",
    "print filteredList"
   ]
  },
  {
   "cell_type": "markdown",
   "id": "b6b592d8",
   "metadata": {},
   "source": [
    "### Problem 2\n",
    "寫一個函數，接收一個列表，如果列表不為空，返回包含列表第一個元素的 Maybe 值；如果列表為空，返回 Nothing"
   ]
  },
  {
   "cell_type": "code",
   "execution_count": 38,
   "id": "f4889488",
   "metadata": {},
   "outputs": [],
   "source": [
    "safeHead  :: [t] -> Maybe t\n",
    "safeHead  [] = Nothing\n",
    "safeHead  (n : ns) = Just n"
   ]
  },
  {
   "cell_type": "markdown",
   "id": "8c663a7d",
   "metadata": {},
   "source": [
    "#### Test 2"
   ]
  },
  {
   "cell_type": "code",
   "execution_count": 39,
   "id": "4d5fa1b9",
   "metadata": {},
   "outputs": [
    {
     "data": {
      "text/plain": [
       "\"Result1: Nothing, Result2: Just 's'\""
      ]
     },
     "metadata": {},
     "output_type": "display_data"
    }
   ],
   "source": [
    "-- Problem 2:\n",
    "let emptyList = [] :: [Char]\n",
    "    noneEmptyList = \"string\"\n",
    "    result1 = safeHead emptyList\n",
    "    result2 = safeHead noneEmptyList\n",
    "print $ \"Result1: \" ++ show result1 ++ \", Result2: \" ++ show result2"
   ]
  },
  {
   "cell_type": "markdown",
   "id": "ff757ef9",
   "metadata": {},
   "source": [
    "### Problem 3\n",
    "定義和處理一個簡單的 ADT (顏色)"
   ]
  },
  {
   "cell_type": "code",
   "execution_count": 4,
   "id": "ace0d11a",
   "metadata": {},
   "outputs": [],
   "source": [
    "data Color = Red\n",
    "            | Green\n",
    "            | Blue\n",
    "            | RGB Int Int Int\n",
    "            deriving (Show, Eq)\n",
    "\n",
    "isPrimaryColor :: Color -> Bool\n",
    "isPrimaryColor color = case color of\n",
    "                        Red -> True\n",
    "                        Blue -> True\n",
    "                        Green -> True\n",
    "                        _ -> False"
   ]
  },
  {
   "cell_type": "markdown",
   "id": "6a39727f",
   "metadata": {},
   "source": [
    "#### Test 3"
   ]
  },
  {
   "cell_type": "code",
   "execution_count": null,
   "id": "8316858c",
   "metadata": {},
   "outputs": [],
   "source": [
    "-- Problem 3:\n",
    "let r = Red\n",
    "    g = Green\n",
    "    b = Blue\n",
    "    other = RGB 1 2 3\n",
    "putStrLn $ \"r -> \" ++ show (Exercise.isPrimaryColor r)\n",
    "putStrLn $ \"b -> \" ++ show (Exercise.isPrimaryColor b)\n",
    "putStrLn $ \"g -> \" ++ show (Exercise.isPrimaryColor g)\n",
    "putStrLn $ \"other -> \" ++ show (Exercise.isPrimaryColor other)"
   ]
  },
  {
   "cell_type": "markdown",
   "id": "b44a4ebb",
   "metadata": {},
   "source": [
    "### Problem 4\n",
    "寫一個函數，接收一個攝氏溫度的列表（[Double]），返回一個包含對應華氏溫度的列表（[Double]）。轉換公式：F=C×1.8+32。要求使用標準庫的高階函數 map 來解決。"
   ]
  },
  {
   "cell_type": "code",
   "execution_count": 5,
   "id": "860a6f50",
   "metadata": {},
   "outputs": [],
   "source": [
    "celsiusToFahrenheitList :: [Double] -> [Double]\n",
    "celsiusToFahrenheitList = map (\\cel -> (cel * 1.8) + 32)"
   ]
  },
  {
   "cell_type": "markdown",
   "id": "c6fd1285",
   "metadata": {},
   "source": [
    "#### Test 4"
   ]
  },
  {
   "cell_type": "code",
   "execution_count": null,
   "id": "b30f1cc5",
   "metadata": {},
   "outputs": [],
   "source": [
    "let temp1 = [15.3, 80, 90.11, 7.49, 0.5, -15.33]\n",
    "print $ \"temp1(C) -> \" ++ show (Exercise.celsiusToFahrenheitList temp1) ++ \"(F)\""
   ]
  },
  {
   "cell_type": "markdown",
   "id": "64966388",
   "metadata": {},
   "source": [
    "### Problem 5\n",
    "處理自定義 ADT 的列表 (計算總價)"
   ]
  },
  {
   "cell_type": "code",
   "execution_count": 6,
   "id": "638ee952",
   "metadata": {},
   "outputs": [],
   "source": [
    "data Book = Book { title :: String, author :: String, pricing :: Double}\n",
    "            -- deriving (Show, Eq)\n",
    "\n",
    "instance Show Book where\n",
    "    show :: Book -> String\n",
    "    show (Book t a p) = \"Book Title: \" ++ show t ++ \", Author: \" ++ show a ++ \", Pricing: \" ++ show p\n",
    "\n",
    "instance Eq Book where\n",
    "    (==) :: Book -> Book -> Bool\n",
    "    (==) (Book t1 a1 p1) (Book t2 a2 p2) = t1 == t2 && a1 == a2 && p1 == p2"
   ]
  },
  {
   "cell_type": "code",
   "execution_count": 9,
   "id": "a036f72a",
   "metadata": {},
   "outputs": [
    {
     "data": {
      "text/html": [
       "<style>/* Styles used for the Hoogle display in the pager */\n",
       ".hoogle-doc {\n",
       "display: block;\n",
       "padding-bottom: 1.3em;\n",
       "padding-left: 0.4em;\n",
       "}\n",
       ".hoogle-code {\n",
       "display: block;\n",
       "font-family: monospace;\n",
       "white-space: pre;\n",
       "}\n",
       ".hoogle-text {\n",
       "display: block;\n",
       "}\n",
       ".hoogle-name {\n",
       "color: green;\n",
       "font-weight: bold;\n",
       "}\n",
       ".hoogle-head {\n",
       "font-weight: bold;\n",
       "}\n",
       ".hoogle-sub {\n",
       "display: block;\n",
       "margin-left: 0.4em;\n",
       "}\n",
       ".hoogle-package {\n",
       "font-weight: bold;\n",
       "font-style: italic;\n",
       "}\n",
       ".hoogle-module {\n",
       "font-weight: bold;\n",
       "}\n",
       ".hoogle-class {\n",
       "font-weight: bold;\n",
       "}\n",
       "\n",
       ".get-type {\n",
       "color: green;\n",
       "font-weight: bold;\n",
       "font-family: monospace;\n",
       "display: block;\n",
       "white-space: pre-wrap;\n",
       "}\n",
       ".show-type {\n",
       "color: green;\n",
       "font-weight: bold;\n",
       "font-family: monospace;\n",
       "margin-left: 1em;\n",
       "}\n",
       ".mono {\n",
       "font-family: monospace;\n",
       "display: block;\n",
       "}\n",
       ".err-msg {\n",
       "color: red;\n",
       "font-style: italic;\n",
       "font-family: monospace;\n",
       "white-space: pre;\n",
       "display: block;\n",
       "}\n",
       "#unshowable {\n",
       "color: red;\n",
       "font-weight: bold;\n",
       "}\n",
       ".err-msg.in.collapse {\n",
       "padding-top: 0.7em;\n",
       "}\n",
       "\n",
       ".highlight-code {\n",
       "white-space: pre;\n",
       "font-family: monospace;\n",
       "}\n",
       "\n",
       ".suggestion-warning { \n",
       "font-weight: bold;\n",
       "color: rgb(200, 130, 0);\n",
       "}\n",
       ".suggestion-error { \n",
       "font-weight: bold;\n",
       "color: red;\n",
       "}\n",
       ".suggestion-name {\n",
       "font-weight: bold;\n",
       "}\n",
       "\n",
       "</style><div class=\"suggestion-name\" style=\"clear:both;\">Use foldr</div><div class=\"suggestion-row\" style=\"float: left;\"><div class=\"suggestion-warning\">Found:</div><div class=\"highlight-code\" id=\"haskell\">retotalBookPrice [] = 0.0\n",
       "retotalBookPrice (bk : remain)\n",
       "  = pricing bk + retotalBookPrice remain</div></div><div class=\"suggestion-row\" style=\"float: left;\"><div class=\"suggestion-warning\">Why Not:</div><div class=\"highlight-code\" id=\"haskell\">retotalBookPrice remain = foldr ((+) . pricing) 0.0 remain</div></div>"
      ],
      "text/plain": [
       "Line 3: Use foldr\n",
       "Found:\n",
       "retotalBookPrice [] = 0.0\n",
       "retotalBookPrice (bk : remain)\n",
       "  = pricing bk + retotalBookPrice remain\n",
       "Why not:\n",
       "retotalBookPrice remain = foldr ((+) . pricing) 0.0 remain"
      ]
     },
     "metadata": {},
     "output_type": "display_data"
    }
   ],
   "source": [
    "-- 遞迴寫法\n",
    "retotalBookPrice :: [Book] -> Double\n",
    "retotalBookPrice [] = 0.0\n",
    "retotalBookPrice (bk : remain) = pricing bk + retotalBookPrice remain\n",
    "\n",
    "-- foldr 寫法\n",
    "totalBookPrice :: [Book] -> Double\n",
    "totalBookPrice = foldr sumPrice 0\n",
    "    where\n",
    "        sumPrice :: Book -> Double -> Double\n",
    "        sumPrice book totalPrice = totalPrice + pricing book"
   ]
  },
  {
   "cell_type": "markdown",
   "id": "60c4908d",
   "metadata": {},
   "source": [
    "#### Test 5"
   ]
  },
  {
   "cell_type": "code",
   "execution_count": null,
   "id": "44b2139e",
   "metadata": {},
   "outputs": [],
   "source": [
    "-- Problem 5:\n",
    "let book1 = [\n",
    "            Book {title = \"test1\", author = \"luka\", pricing = 9.99},\n",
    "            Book {title = \"test2\", author = \"aaa\", pricing = 11.99},\n",
    "            Book {title = \"test3\", author = \"lbb\", pricing = 12.99},\n",
    "            Book {title = \"test4\", author = \"ladsa\", pricing = 15.99},\n",
    "            Book {title = \"test5\", author = \"qqqa\", pricing = 0.99}\n",
    "            ]\n",
    "    resumTotalPricing = retotalBookPrice book1\n",
    "    sumTotalPricing = totalBookPrice book1\n",
    "\n",
    "print $ \"Total Pricing re: \" ++ show resumTotalPricing\n",
    "print $ \"Total Pricing: \" ++ show sumTotalPricing"
   ]
  }
 ],
 "metadata": {
  "kernelspec": {
   "display_name": "Haskell",
   "language": "haskell",
   "name": "haskell"
  },
  "language_info": {
   "codemirror_mode": "ihaskell",
   "file_extension": ".hs",
   "mimetype": "text/x-haskell",
   "name": "haskell",
   "pygments_lexer": "Haskell",
   "version": "9.6.4"
  }
 },
 "nbformat": 4,
 "nbformat_minor": 5
}
